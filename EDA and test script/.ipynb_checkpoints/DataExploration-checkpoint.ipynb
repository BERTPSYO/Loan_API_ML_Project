{
 "cells": [
  {
   "cell_type": "code",
   "execution_count": 68,
   "metadata": {
    "execution": {
     "iopub.execute_input": "2023-10-17T17:46:40.389136Z",
     "iopub.status.busy": "2023-10-17T17:46:40.388140Z",
     "iopub.status.idle": "2023-10-17T17:46:40.395086Z",
     "shell.execute_reply": "2023-10-17T17:46:40.394083Z",
     "shell.execute_reply.started": "2023-10-17T17:46:40.389136Z"
    },
    "id": "ZFe1vmdL6JuV",
    "tags": []
   },
   "outputs": [],
   "source": [
    "#importing the necesary libraires\n",
    "import pandas as pd\n",
    "import mlflow\n",
    "import re\n",
    "import numpy as np\n",
    "import matplotlib\n",
    "import matplotlib.pyplot as plt\n",
    "import sklearn\n",
    "from sklearn.feature_extraction import DictVectorizer\n",
    "\n",
    "from sklearn.utils import shuffle\n",
    "from sklearn.preprocessing import StandardScaler,LabelEncoder, OneHotEncoder\n",
    "from sklearn.model_selection import train_test_split\n",
    "\n",
    "\n",
    "from sklearn.impute import SimpleImputer\n",
    "\n",
    "from sklearn.model_selection import ParameterGrid\n",
    "from sklearn.linear_model import SGDClassifier\n",
    "from sklearn.metrics import roc_auc_score\n",
    "from sklearn.metrics import accuracy_score\n",
    "from sklearn.metrics import ConfusionMatrixDisplay\n",
    "\n",
    "import parfit.parfit as pf\n",
    "\n",
    "import pickle\n"
   ]
  },
  {
   "cell_type": "code",
   "execution_count": 69,
   "metadata": {
    "execution": {
     "iopub.execute_input": "2023-10-17T17:46:42.261599Z",
     "iopub.status.busy": "2023-10-17T17:46:42.261599Z",
     "iopub.status.idle": "2023-10-17T17:46:42.268027Z",
     "shell.execute_reply": "2023-10-17T17:46:42.267026Z",
     "shell.execute_reply.started": "2023-10-17T17:46:42.261599Z"
    },
    "tags": []
   },
   "outputs": [
    {
     "data": {
      "text/plain": [
       "'1.2.2'"
      ]
     },
     "execution_count": 69,
     "metadata": {},
     "output_type": "execute_result"
    }
   ],
   "source": [
    "sklearn.__version__"
   ]
  },
  {
   "cell_type": "code",
   "execution_count": 2,
   "metadata": {
    "execution": {
     "iopub.execute_input": "2023-10-17T14:33:48.369562Z",
     "iopub.status.busy": "2023-10-17T14:33:48.369562Z",
     "iopub.status.idle": "2023-10-17T14:35:01.256323Z",
     "shell.execute_reply": "2023-10-17T14:35:01.247344Z",
     "shell.execute_reply.started": "2023-10-17T14:33:48.369562Z"
    },
    "tags": []
   },
   "outputs": [
    {
     "name": "stderr",
     "output_type": "stream",
     "text": [
      "C:\\Users\\Bertr\\AppData\\Local\\Temp\\ipykernel_2600\\764452105.py:1: DtypeWarning: Columns (0,19,49,59,118,129,130,131,134,135,136,139,145,146,147) have mixed types. Specify dtype option on import or set low_memory=False.\n",
      "  df_accepted = pd.read_csv('../../assets/data/accepted_2007_to_2018Q4.csv.gz', compression='gzip', header=0, sep=',', quotechar='\"')\n"
     ]
    }
   ],
   "source": [
    "df_accepted = pd.read_csv('../../assets/data/accepted_2007_to_2018Q4.csv.gz', compression='gzip', header=0, sep=',', quotechar='\"')\n",
    "\n",
    "df_rejected = pd.read_csv('../../assets/data/rejected_2007_to_2018Q4.csv.gz', compression='gzip', header=0, sep=',', quotechar='\"')"
   ]
  },
  {
   "cell_type": "code",
   "execution_count": 3,
   "metadata": {
    "execution": {
     "iopub.execute_input": "2023-10-17T14:35:01.266296Z",
     "iopub.status.busy": "2023-10-17T14:35:01.265298Z",
     "iopub.status.idle": "2023-10-17T14:35:01.307253Z",
     "shell.execute_reply": "2023-10-17T14:35:01.306250Z",
     "shell.execute_reply.started": "2023-10-17T14:35:01.266296Z"
    },
    "tags": []
   },
   "outputs": [
    {
     "data": {
      "text/plain": [
       "(2260701, 151)"
      ]
     },
     "execution_count": 3,
     "metadata": {},
     "output_type": "execute_result"
    }
   ],
   "source": [
    "df_accepted.shape\n",
    "\n"
   ]
  },
  {
   "cell_type": "code",
   "execution_count": 4,
   "metadata": {
    "execution": {
     "iopub.execute_input": "2023-10-17T14:35:01.313241Z",
     "iopub.status.busy": "2023-10-17T14:35:01.312238Z",
     "iopub.status.idle": "2023-10-17T14:35:01.321240Z",
     "shell.execute_reply": "2023-10-17T14:35:01.321240Z",
     "shell.execute_reply.started": "2023-10-17T14:35:01.313241Z"
    },
    "tags": []
   },
   "outputs": [
    {
     "data": {
      "text/plain": [
       "(27648741, 9)"
      ]
     },
     "execution_count": 4,
     "metadata": {},
     "output_type": "execute_result"
    }
   ],
   "source": [
    "df_rejected.shape"
   ]
  },
  {
   "cell_type": "code",
   "execution_count": 5,
   "metadata": {
    "execution": {
     "iopub.execute_input": "2023-10-17T14:35:01.323256Z",
     "iopub.status.busy": "2023-10-17T14:35:01.322240Z",
     "iopub.status.idle": "2023-10-17T14:35:01.329176Z",
     "shell.execute_reply": "2023-10-17T14:35:01.328175Z",
     "shell.execute_reply.started": "2023-10-17T14:35:01.323256Z"
    },
    "tags": []
   },
   "outputs": [],
   "source": [
    "pd.options.display.max_rows = 1000"
   ]
  },
  {
   "cell_type": "code",
   "execution_count": 6,
   "metadata": {
    "execution": {
     "iopub.execute_input": "2023-10-17T14:35:01.331171Z",
     "iopub.status.busy": "2023-10-17T14:35:01.330174Z",
     "iopub.status.idle": "2023-10-17T14:35:01.434675Z",
     "shell.execute_reply": "2023-10-17T14:35:01.433674Z",
     "shell.execute_reply.started": "2023-10-17T14:35:01.331171Z"
    },
    "tags": []
   },
   "outputs": [
    {
     "name": "stdout",
     "output_type": "stream",
     "text": [
      "<class 'pandas.core.frame.DataFrame'>\n",
      "RangeIndex: 27648741 entries, 0 to 27648740\n",
      "Data columns (total 9 columns):\n",
      " #   Column                Dtype  \n",
      "---  ------                -----  \n",
      " 0   Amount Requested      float64\n",
      " 1   Application Date      object \n",
      " 2   Loan Title            object \n",
      " 3   Risk_Score            float64\n",
      " 4   Debt-To-Income Ratio  object \n",
      " 5   Zip Code              object \n",
      " 6   State                 object \n",
      " 7   Employment Length     object \n",
      " 8   Policy Code           float64\n",
      "dtypes: float64(3), object(6)\n",
      "memory usage: 1.9+ GB\n"
     ]
    }
   ],
   "source": [
    "df_rejected.info()"
   ]
  },
  {
   "cell_type": "code",
   "execution_count": 7,
   "metadata": {
    "execution": {
     "iopub.execute_input": "2023-10-17T14:35:01.436675Z",
     "iopub.status.busy": "2023-10-17T14:35:01.435671Z",
     "iopub.status.idle": "2023-10-17T14:35:11.541912Z",
     "shell.execute_reply": "2023-10-17T14:35:11.540911Z",
     "shell.execute_reply.started": "2023-10-17T14:35:01.436675Z"
    },
    "tags": []
   },
   "outputs": [
    {
     "name": "stdout",
     "output_type": "stream",
     "text": [
      "<class 'pandas.core.frame.DataFrame'>\n",
      "RangeIndex: 2260701 entries, 0 to 2260700\n",
      "Data columns (total 151 columns):\n",
      " #    Column                                      Non-Null Count    Dtype  \n",
      "---   ------                                      --------------    -----  \n",
      " 0    id                                          2260701 non-null  object \n",
      " 1    member_id                                   0 non-null        float64\n",
      " 2    loan_amnt                                   2260668 non-null  float64\n",
      " 3    funded_amnt                                 2260668 non-null  float64\n",
      " 4    funded_amnt_inv                             2260668 non-null  float64\n",
      " 5    term                                        2260668 non-null  object \n",
      " 6    int_rate                                    2260668 non-null  float64\n",
      " 7    installment                                 2260668 non-null  float64\n",
      " 8    grade                                       2260668 non-null  object \n",
      " 9    sub_grade                                   2260668 non-null  object \n",
      " 10   emp_title                                   2093699 non-null  object \n",
      " 11   emp_length                                  2113761 non-null  object \n",
      " 12   home_ownership                              2260668 non-null  object \n",
      " 13   annual_inc                                  2260664 non-null  float64\n",
      " 14   verification_status                         2260668 non-null  object \n",
      " 15   issue_d                                     2260668 non-null  object \n",
      " 16   loan_status                                 2260668 non-null  object \n",
      " 17   pymnt_plan                                  2260668 non-null  object \n",
      " 18   url                                         2260668 non-null  object \n",
      " 19   desc                                        126067 non-null   object \n",
      " 20   purpose                                     2260668 non-null  object \n",
      " 21   title                                       2237343 non-null  object \n",
      " 22   zip_code                                    2260667 non-null  object \n",
      " 23   addr_state                                  2260668 non-null  object \n",
      " 24   dti                                         2258957 non-null  float64\n",
      " 25   delinq_2yrs                                 2260639 non-null  float64\n",
      " 26   earliest_cr_line                            2260639 non-null  object \n",
      " 27   fico_range_low                              2260668 non-null  float64\n",
      " 28   fico_range_high                             2260668 non-null  float64\n",
      " 29   inq_last_6mths                              2260638 non-null  float64\n",
      " 30   mths_since_last_delinq                      1102166 non-null  float64\n",
      " 31   mths_since_last_record                      359156 non-null   float64\n",
      " 32   open_acc                                    2260639 non-null  float64\n",
      " 33   pub_rec                                     2260639 non-null  float64\n",
      " 34   revol_bal                                   2260668 non-null  float64\n",
      " 35   revol_util                                  2258866 non-null  float64\n",
      " 36   total_acc                                   2260639 non-null  float64\n",
      " 37   initial_list_status                         2260668 non-null  object \n",
      " 38   out_prncp                                   2260668 non-null  float64\n",
      " 39   out_prncp_inv                               2260668 non-null  float64\n",
      " 40   total_pymnt                                 2260668 non-null  float64\n",
      " 41   total_pymnt_inv                             2260668 non-null  float64\n",
      " 42   total_rec_prncp                             2260668 non-null  float64\n",
      " 43   total_rec_int                               2260668 non-null  float64\n",
      " 44   total_rec_late_fee                          2260668 non-null  float64\n",
      " 45   recoveries                                  2260668 non-null  float64\n",
      " 46   collection_recovery_fee                     2260668 non-null  float64\n",
      " 47   last_pymnt_d                                2258241 non-null  object \n",
      " 48   last_pymnt_amnt                             2260668 non-null  float64\n",
      " 49   next_pymnt_d                                915358 non-null   object \n",
      " 50   last_credit_pull_d                          2260596 non-null  object \n",
      " 51   last_fico_range_high                        2260668 non-null  float64\n",
      " 52   last_fico_range_low                         2260668 non-null  float64\n",
      " 53   collections_12_mths_ex_med                  2260523 non-null  float64\n",
      " 54   mths_since_last_major_derog                 580775 non-null   float64\n",
      " 55   policy_code                                 2260668 non-null  float64\n",
      " 56   application_type                            2260668 non-null  object \n",
      " 57   annual_inc_joint                            120710 non-null   float64\n",
      " 58   dti_joint                                   120706 non-null   float64\n",
      " 59   verification_status_joint                   115730 non-null   object \n",
      " 60   acc_now_delinq                              2260639 non-null  float64\n",
      " 61   tot_coll_amt                                2190392 non-null  float64\n",
      " 62   tot_cur_bal                                 2190392 non-null  float64\n",
      " 63   open_acc_6m                                 1394538 non-null  float64\n",
      " 64   open_act_il                                 1394539 non-null  float64\n",
      " 65   open_il_12m                                 1394539 non-null  float64\n",
      " 66   open_il_24m                                 1394539 non-null  float64\n",
      " 67   mths_since_rcnt_il                          1350744 non-null  float64\n",
      " 68   total_bal_il                                1394539 non-null  float64\n",
      " 69   il_util                                     1191818 non-null  float64\n",
      " 70   open_rv_12m                                 1394539 non-null  float64\n",
      " 71   open_rv_24m                                 1394539 non-null  float64\n",
      " 72   max_bal_bc                                  1394539 non-null  float64\n",
      " 73   all_util                                    1394320 non-null  float64\n",
      " 74   total_rev_hi_lim                            2190392 non-null  float64\n",
      " 75   inq_fi                                      1394539 non-null  float64\n",
      " 76   total_cu_tl                                 1394538 non-null  float64\n",
      " 77   inq_last_12m                                1394538 non-null  float64\n",
      " 78   acc_open_past_24mths                        2210638 non-null  float64\n",
      " 79   avg_cur_bal                                 2190322 non-null  float64\n",
      " 80   bc_open_to_buy                              2185733 non-null  float64\n",
      " 81   bc_util                                     2184597 non-null  float64\n",
      " 82   chargeoff_within_12_mths                    2260523 non-null  float64\n",
      " 83   delinq_amnt                                 2260639 non-null  float64\n",
      " 84   mo_sin_old_il_acct                          2121597 non-null  float64\n",
      " 85   mo_sin_old_rev_tl_op                        2190391 non-null  float64\n",
      " 86   mo_sin_rcnt_rev_tl_op                       2190391 non-null  float64\n",
      " 87   mo_sin_rcnt_tl                              2190392 non-null  float64\n",
      " 88   mort_acc                                    2210638 non-null  float64\n",
      " 89   mths_since_recent_bc                        2187256 non-null  float64\n",
      " 90   mths_since_recent_bc_dlq                    519701 non-null   float64\n",
      " 91   mths_since_recent_inq                       1965233 non-null  float64\n",
      " 92   mths_since_recent_revol_delinq              740359 non-null   float64\n",
      " 93   num_accts_ever_120_pd                       2190392 non-null  float64\n",
      " 94   num_actv_bc_tl                              2190392 non-null  float64\n",
      " 95   num_actv_rev_tl                             2190392 non-null  float64\n",
      " 96   num_bc_sats                                 2202078 non-null  float64\n",
      " 97   num_bc_tl                                   2190392 non-null  float64\n",
      " 98   num_il_tl                                   2190392 non-null  float64\n",
      " 99   num_op_rev_tl                               2190392 non-null  float64\n",
      " 100  num_rev_accts                               2190391 non-null  float64\n",
      " 101  num_rev_tl_bal_gt_0                         2190392 non-null  float64\n",
      " 102  num_sats                                    2202078 non-null  float64\n",
      " 103  num_tl_120dpd_2m                            2107011 non-null  float64\n",
      " 104  num_tl_30dpd                                2190392 non-null  float64\n",
      " 105  num_tl_90g_dpd_24m                          2190392 non-null  float64\n",
      " 106  num_tl_op_past_12m                          2190392 non-null  float64\n",
      " 107  pct_tl_nvr_dlq                              2190237 non-null  float64\n",
      " 108  percent_bc_gt_75                            2185289 non-null  float64\n",
      " 109  pub_rec_bankruptcies                        2259303 non-null  float64\n",
      " 110  tax_liens                                   2260563 non-null  float64\n",
      " 111  tot_hi_cred_lim                             2190392 non-null  float64\n",
      " 112  total_bal_ex_mort                           2210638 non-null  float64\n",
      " 113  total_bc_limit                              2210638 non-null  float64\n",
      " 114  total_il_high_credit_limit                  2190392 non-null  float64\n",
      " 115  revol_bal_joint                             108020 non-null   float64\n",
      " 116  sec_app_fico_range_low                      108021 non-null   float64\n",
      " 117  sec_app_fico_range_high                     108021 non-null   float64\n",
      " 118  sec_app_earliest_cr_line                    108021 non-null   object \n",
      " 119  sec_app_inq_last_6mths                      108021 non-null   float64\n",
      " 120  sec_app_mort_acc                            108021 non-null   float64\n",
      " 121  sec_app_open_acc                            108021 non-null   float64\n",
      " 122  sec_app_revol_util                          106184 non-null   float64\n",
      " 123  sec_app_open_act_il                         108021 non-null   float64\n",
      " 124  sec_app_num_rev_accts                       108021 non-null   float64\n",
      " 125  sec_app_chargeoff_within_12_mths            108021 non-null   float64\n",
      " 126  sec_app_collections_12_mths_ex_med          108021 non-null   float64\n",
      " 127  sec_app_mths_since_last_major_derog         35942 non-null    float64\n",
      " 128  hardship_flag                               2260668 non-null  object \n",
      " 129  hardship_type                               10917 non-null    object \n",
      " 130  hardship_reason                             10917 non-null    object \n",
      " 131  hardship_status                             10917 non-null    object \n",
      " 132  deferral_term                               10917 non-null    float64\n",
      " 133  hardship_amount                             10917 non-null    float64\n",
      " 134  hardship_start_date                         10917 non-null    object \n",
      " 135  hardship_end_date                           10917 non-null    object \n",
      " 136  payment_plan_start_date                     10917 non-null    object \n",
      " 137  hardship_length                             10917 non-null    float64\n",
      " 138  hardship_dpd                                10917 non-null    float64\n",
      " 139  hardship_loan_status                        10917 non-null    object \n",
      " 140  orig_projected_additional_accrued_interest  8651 non-null     float64\n",
      " 141  hardship_payoff_balance_amount              10917 non-null    float64\n",
      " 142  hardship_last_payment_amount                10917 non-null    float64\n",
      " 143  disbursement_method                         2260668 non-null  object \n",
      " 144  debt_settlement_flag                        2260668 non-null  object \n",
      " 145  debt_settlement_flag_date                   34246 non-null    object \n",
      " 146  settlement_status                           34246 non-null    object \n",
      " 147  settlement_date                             34246 non-null    object \n",
      " 148  settlement_amount                           34246 non-null    float64\n",
      " 149  settlement_percentage                       34246 non-null    float64\n",
      " 150  settlement_term                             34246 non-null    float64\n",
      "dtypes: float64(113), object(38)\n",
      "memory usage: 2.5+ GB\n"
     ]
    }
   ],
   "source": [
    "df_accepted.info(verbose=True,show_counts=True)"
   ]
  },
  {
   "cell_type": "code",
   "execution_count": 8,
   "metadata": {
    "execution": {
     "iopub.execute_input": "2023-10-17T14:35:11.542908Z",
     "iopub.status.busy": "2023-10-17T14:35:11.542908Z",
     "iopub.status.idle": "2023-10-17T14:35:11.716902Z",
     "shell.execute_reply": "2023-10-17T14:35:11.716902Z",
     "shell.execute_reply.started": "2023-10-17T14:35:11.542908Z"
    },
    "tags": []
   },
   "outputs": [],
   "source": [
    "#dropping the accepted loans additionnal columns as they are not neede to train or loans acceptability model\n",
    "df_accepted_clean = df_accepted[['loan_amnt','issue_d','title','dti','zip_code','addr_state','emp_length','policy_code']].copy()"
   ]
  },
  {
   "cell_type": "code",
   "execution_count": 9,
   "metadata": {
    "execution": {
     "iopub.execute_input": "2023-10-17T14:35:11.718895Z",
     "iopub.status.busy": "2023-10-17T14:35:11.717914Z",
     "iopub.status.idle": "2023-10-17T14:35:12.970448Z",
     "shell.execute_reply": "2023-10-17T14:35:12.969447Z",
     "shell.execute_reply.started": "2023-10-17T14:35:11.718895Z"
    },
    "tags": []
   },
   "outputs": [
    {
     "name": "stdout",
     "output_type": "stream",
     "text": [
      "<class 'pandas.core.frame.DataFrame'>\n",
      "RangeIndex: 2260701 entries, 0 to 2260700\n",
      "Data columns (total 9 columns):\n",
      " #   Column       Non-Null Count    Dtype  \n",
      "---  ------       --------------    -----  \n",
      " 0   loan_amnt    2260668 non-null  float64\n",
      " 1   issue_d      2260668 non-null  object \n",
      " 2   title        2237343 non-null  object \n",
      " 3   dti          2258957 non-null  float64\n",
      " 4   zip_code     2260667 non-null  object \n",
      " 5   addr_state   2260668 non-null  object \n",
      " 6   emp_length   2113761 non-null  object \n",
      " 7   policy_code  2260668 non-null  float64\n",
      " 8   risk_score   2260668 non-null  float64\n",
      "dtypes: float64(4), object(5)\n",
      "memory usage: 155.2+ MB\n"
     ]
    }
   ],
   "source": [
    "df_accepted_clean['risk_score'] = df_accepted[['fico_range_low','fico_range_high']].mean(axis=1)\n",
    "df_accepted_clean.info(verbose=True,show_counts=True)"
   ]
  },
  {
   "cell_type": "code",
   "execution_count": 10,
   "metadata": {
    "execution": {
     "iopub.execute_input": "2023-10-17T14:35:12.972442Z",
     "iopub.status.busy": "2023-10-17T14:35:12.971444Z",
     "iopub.status.idle": "2023-10-17T14:35:28.819809Z",
     "shell.execute_reply": "2023-10-17T14:35:28.818758Z",
     "shell.execute_reply.started": "2023-10-17T14:35:12.972442Z"
    },
    "tags": []
   },
   "outputs": [
    {
     "name": "stdout",
     "output_type": "stream",
     "text": [
      "<class 'pandas.core.frame.DataFrame'>\n",
      "RangeIndex: 27648741 entries, 0 to 27648740\n",
      "Data columns (total 9 columns):\n",
      " #   Column                Non-Null Count     Dtype  \n",
      "---  ------                --------------     -----  \n",
      " 0   Amount Requested      27648741 non-null  float64\n",
      " 1   Application Date      27648741 non-null  object \n",
      " 2   Loan Title            27647438 non-null  object \n",
      " 3   Risk_Score            9151111 non-null   float64\n",
      " 4   Debt-To-Income Ratio  27648741 non-null  object \n",
      " 5   Zip Code              27648448 non-null  object \n",
      " 6   State                 27648719 non-null  object \n",
      " 7   Employment Length     26697386 non-null  object \n",
      " 8   Policy Code           27647823 non-null  float64\n",
      "dtypes: float64(3), object(6)\n",
      "memory usage: 1.9+ GB\n"
     ]
    }
   ],
   "source": [
    "df_rejected.info(verbose=True,show_counts=True)"
   ]
  },
  {
   "cell_type": "code",
   "execution_count": 11,
   "metadata": {
    "execution": {
     "iopub.execute_input": "2023-10-17T14:35:28.821765Z",
     "iopub.status.busy": "2023-10-17T14:35:28.820751Z",
     "iopub.status.idle": "2023-10-17T14:35:30.813949Z",
     "shell.execute_reply": "2023-10-17T14:35:30.812947Z",
     "shell.execute_reply.started": "2023-10-17T14:35:28.820751Z"
    },
    "tags": []
   },
   "outputs": [],
   "source": [
    "#combining the data \n",
    "\n",
    "\n",
    "# Add the 'accepted' column to both dataframes\n",
    "df_accepted_clean['accepted'] = 1\n",
    "df_rejected['accepted'] = 0\n",
    "\n",
    "# Rename the columns in the Rejected dataframe to match the column names in the Accepted dataframe\n",
    "df_rejected = df_rejected.rename(columns={'Loan Title': 'title',\n",
    "                                          'Policy Code': 'policy_code',\n",
    "                                          'Risk_Score': 'risk_score'})\n",
    "df_accepted_clean = df_accepted_clean.rename(columns={'loan_amnt': 'Amount Requested',\n",
    "                                          'issue_d': 'Application Date',                                          \n",
    "                                          'dti': 'Debt-To-Income Ratio',\n",
    "                                          'zip_code': 'Zip Code',\n",
    "                                          'addr_state': 'State',\n",
    "                                          'emp_length': 'Employment Length'})\n",
    "\n",
    "\n",
    "\n",
    "# Concatenate the dataframes vertically\n",
    "df_combined = pd.concat([df_accepted_clean, df_rejected], ignore_index=True)\n",
    "\n",
    "# reset the index to have a clean index for the combined dataframe\n",
    "df_combined.reset_index(drop=True, inplace=True)"
   ]
  },
  {
   "cell_type": "code",
   "execution_count": 12,
   "metadata": {
    "execution": {
     "iopub.execute_input": "2023-10-17T14:35:30.815942Z",
     "iopub.status.busy": "2023-10-17T14:35:30.815942Z",
     "iopub.status.idle": "2023-10-17T14:35:31.954983Z",
     "shell.execute_reply": "2023-10-17T14:35:31.953982Z",
     "shell.execute_reply.started": "2023-10-17T14:35:30.815942Z"
    },
    "tags": []
   },
   "outputs": [],
   "source": [
    "df_combined = df_combined.drop(columns=['Application Date', 'title', 'Zip Code', 'State'])\n",
    "\n"
   ]
  },
  {
   "cell_type": "code",
   "execution_count": 13,
   "metadata": {
    "execution": {
     "iopub.execute_input": "2023-10-17T14:35:31.960967Z",
     "iopub.status.busy": "2023-10-17T14:35:31.959971Z",
     "iopub.status.idle": "2023-10-17T14:35:37.827528Z",
     "shell.execute_reply": "2023-10-17T14:35:37.826503Z",
     "shell.execute_reply.started": "2023-10-17T14:35:31.960967Z"
    },
    "tags": []
   },
   "outputs": [
    {
     "data": {
      "text/plain": [
       "Amount Requested              33\n",
       "Debt-To-Income Ratio        1744\n",
       "Employment Length        1098295\n",
       "policy_code                  951\n",
       "risk_score              18497663\n",
       "accepted                       0\n",
       "dtype: int64"
      ]
     },
     "execution_count": 13,
     "metadata": {},
     "output_type": "execute_result"
    }
   ],
   "source": [
    "df_combined.isna().sum()"
   ]
  },
  {
   "cell_type": "code",
   "execution_count": null,
   "metadata": {
    "tags": []
   },
   "outputs": [],
   "source": []
  },
  {
   "cell_type": "code",
   "execution_count": 14,
   "metadata": {
    "execution": {
     "iopub.execute_input": "2023-10-17T14:35:37.829497Z",
     "iopub.status.busy": "2023-10-17T14:35:37.828502Z",
     "iopub.status.idle": "2023-10-17T14:38:26.866385Z",
     "shell.execute_reply": "2023-10-17T14:38:26.860398Z",
     "shell.execute_reply.started": "2023-10-17T14:35:37.829497Z"
    },
    "tags": []
   },
   "outputs": [],
   "source": [
    "#since risk score have many null value and it is important to keep track of them, but i don't wnat to bias my model to much. \n",
    "#I'll create a new column to keep track of the null risk score\n",
    "#I'll do the same treatement to all columns since i presume missing value is really important in loan decision\n",
    "#also i'll clean the non numeric value in Debt-To-Income Ratio and Employment Length columns\n",
    "\n",
    "\n",
    "\n",
    "def p2f(x):\n",
    "    if pd.notna(x) and not isinstance(x, float):\n",
    "        return float(x.strip('%'))\n",
    "    return np.NaN\n",
    "\n",
    "\n",
    "    \n",
    "def stringremover(x):\n",
    "    if pd.notna(x) and not x == \"\":\n",
    "        return re.sub(\"[^0-9]\", \"\", str(x))\n",
    "    return np.NaN\n",
    "\n",
    "# Define a list of columns with missing values\n",
    "columns_with_missing_values = ['Amount Requested', 'Debt-To-Income Ratio', 'Employment Length', 'policy_code', 'risk_score']\n",
    "\n",
    "# Create indicator columns for each column with missing values and clean the specified columns\n",
    "for column in columns_with_missing_values:\n",
    "    indicator_column_name = f'missing_{column}'\n",
    "    df_combined[indicator_column_name] = df_combined[column].isnull().astype(int)\n",
    "\n",
    "    # Apply data cleaning functions for specific columns\n",
    "    if column == 'Debt-To-Income Ratio':\n",
    "        df_combined[column] = df_combined[column].apply(lambda x: p2f(x) if pd.notna(x) else np.NaN)\n",
    "    elif column == 'Employment Length':\n",
    "        df_combined[column] = df_combined[column].apply(lambda x: stringremover(x) if pd.notna(x) else np.NaN)\n",
    "\n",
    "\n",
    "# Impute missing values with the mean for numerical columns\n",
    "numerical_imputer = SimpleImputer(strategy='mean')\n",
    "df_combined[columns_with_missing_values] = numerical_imputer.fit_transform(df_combined[columns_with_missing_values])\n",
    "\n"
   ]
  },
  {
   "cell_type": "code",
   "execution_count": null,
   "metadata": {},
   "outputs": [],
   "source": []
  },
  {
   "cell_type": "code",
   "execution_count": 55,
   "metadata": {
    "execution": {
     "iopub.execute_input": "2023-10-17T17:19:47.494832Z",
     "iopub.status.busy": "2023-10-17T17:19:47.493834Z",
     "iopub.status.idle": "2023-10-17T17:19:47.504603Z",
     "shell.execute_reply": "2023-10-17T17:19:47.503590Z",
     "shell.execute_reply.started": "2023-10-17T17:19:47.493834Z"
    },
    "tags": []
   },
   "outputs": [
    {
     "data": {
      "text/plain": [
       "Amount Requested                10000.000000\n",
       "Debt-To-Income Ratio              143.340051\n",
       "Employment Length                   1.000000\n",
       "policy_code                         1.000000\n",
       "risk_score                        672.000000\n",
       "accepted                            1.000000\n",
       "missing_Amount Requested            0.000000\n",
       "missing_Debt-To-Income Ratio        0.000000\n",
       "missing_Employment Length           0.000000\n",
       "missing_policy_code                 0.000000\n",
       "missing_risk_score                  0.000000\n",
       "Name: 2050000, dtype: float64"
      ]
     },
     "execution_count": 55,
     "metadata": {},
     "output_type": "execute_result"
    }
   ],
   "source": [
    "df_combined.loc[2050000]"
   ]
  },
  {
   "cell_type": "code",
   "execution_count": 15,
   "metadata": {
    "execution": {
     "iopub.execute_input": "2023-10-17T14:38:26.876358Z",
     "iopub.status.busy": "2023-10-17T14:38:26.875362Z",
     "iopub.status.idle": "2023-10-17T14:38:26.985809Z",
     "shell.execute_reply": "2023-10-17T14:38:26.984808Z",
     "shell.execute_reply.started": "2023-10-17T14:38:26.876358Z"
    },
    "tags": []
   },
   "outputs": [
    {
     "data": {
      "text/html": [
       "<div>\n",
       "<style scoped>\n",
       "    .dataframe tbody tr th:only-of-type {\n",
       "        vertical-align: middle;\n",
       "    }\n",
       "\n",
       "    .dataframe tbody tr th {\n",
       "        vertical-align: top;\n",
       "    }\n",
       "\n",
       "    .dataframe thead th {\n",
       "        text-align: right;\n",
       "    }\n",
       "</style>\n",
       "<table border=\"1\" class=\"dataframe\">\n",
       "  <thead>\n",
       "    <tr style=\"text-align: right;\">\n",
       "      <th></th>\n",
       "      <th>Amount Requested</th>\n",
       "      <th>Debt-To-Income Ratio</th>\n",
       "      <th>Employment Length</th>\n",
       "      <th>policy_code</th>\n",
       "      <th>risk_score</th>\n",
       "      <th>accepted</th>\n",
       "      <th>missing_Amount Requested</th>\n",
       "      <th>missing_Debt-To-Income Ratio</th>\n",
       "      <th>missing_Employment Length</th>\n",
       "      <th>missing_policy_code</th>\n",
       "      <th>missing_risk_score</th>\n",
       "    </tr>\n",
       "  </thead>\n",
       "  <tbody>\n",
       "    <tr>\n",
       "      <th>0</th>\n",
       "      <td>3600.0</td>\n",
       "      <td>143.340051</td>\n",
       "      <td>10.0</td>\n",
       "      <td>1.0</td>\n",
       "      <td>677.0</td>\n",
       "      <td>1</td>\n",
       "      <td>0</td>\n",
       "      <td>0</td>\n",
       "      <td>0</td>\n",
       "      <td>0</td>\n",
       "      <td>0</td>\n",
       "    </tr>\n",
       "    <tr>\n",
       "      <th>1</th>\n",
       "      <td>24700.0</td>\n",
       "      <td>143.340051</td>\n",
       "      <td>10.0</td>\n",
       "      <td>1.0</td>\n",
       "      <td>717.0</td>\n",
       "      <td>1</td>\n",
       "      <td>0</td>\n",
       "      <td>0</td>\n",
       "      <td>0</td>\n",
       "      <td>0</td>\n",
       "      <td>0</td>\n",
       "    </tr>\n",
       "    <tr>\n",
       "      <th>2</th>\n",
       "      <td>20000.0</td>\n",
       "      <td>143.340051</td>\n",
       "      <td>10.0</td>\n",
       "      <td>1.0</td>\n",
       "      <td>697.0</td>\n",
       "      <td>1</td>\n",
       "      <td>0</td>\n",
       "      <td>0</td>\n",
       "      <td>0</td>\n",
       "      <td>0</td>\n",
       "      <td>0</td>\n",
       "    </tr>\n",
       "    <tr>\n",
       "      <th>3</th>\n",
       "      <td>35000.0</td>\n",
       "      <td>143.340051</td>\n",
       "      <td>10.0</td>\n",
       "      <td>1.0</td>\n",
       "      <td>787.0</td>\n",
       "      <td>1</td>\n",
       "      <td>0</td>\n",
       "      <td>0</td>\n",
       "      <td>0</td>\n",
       "      <td>0</td>\n",
       "      <td>0</td>\n",
       "    </tr>\n",
       "    <tr>\n",
       "      <th>4</th>\n",
       "      <td>10400.0</td>\n",
       "      <td>143.340051</td>\n",
       "      <td>3.0</td>\n",
       "      <td>1.0</td>\n",
       "      <td>697.0</td>\n",
       "      <td>1</td>\n",
       "      <td>0</td>\n",
       "      <td>0</td>\n",
       "      <td>0</td>\n",
       "      <td>0</td>\n",
       "      <td>0</td>\n",
       "    </tr>\n",
       "  </tbody>\n",
       "</table>\n",
       "</div>"
      ],
      "text/plain": [
       "   Amount Requested  Debt-To-Income Ratio  Employment Length  policy_code  \\\n",
       "0            3600.0            143.340051               10.0          1.0   \n",
       "1           24700.0            143.340051               10.0          1.0   \n",
       "2           20000.0            143.340051               10.0          1.0   \n",
       "3           35000.0            143.340051               10.0          1.0   \n",
       "4           10400.0            143.340051                3.0          1.0   \n",
       "\n",
       "   risk_score  accepted  missing_Amount Requested  \\\n",
       "0       677.0         1                         0   \n",
       "1       717.0         1                         0   \n",
       "2       697.0         1                         0   \n",
       "3       787.0         1                         0   \n",
       "4       697.0         1                         0   \n",
       "\n",
       "   missing_Debt-To-Income Ratio  missing_Employment Length  \\\n",
       "0                             0                          0   \n",
       "1                             0                          0   \n",
       "2                             0                          0   \n",
       "3                             0                          0   \n",
       "4                             0                          0   \n",
       "\n",
       "   missing_policy_code  missing_risk_score  \n",
       "0                    0                   0  \n",
       "1                    0                   0  \n",
       "2                    0                   0  \n",
       "3                    0                   0  \n",
       "4                    0                   0  "
      ]
     },
     "execution_count": 15,
     "metadata": {},
     "output_type": "execute_result"
    }
   ],
   "source": [
    "df_combined.head(5)"
   ]
  },
  {
   "cell_type": "code",
   "execution_count": 27,
   "metadata": {
    "execution": {
     "iopub.execute_input": "2023-10-17T15:27:07.728921Z",
     "iopub.status.busy": "2023-10-17T15:27:07.728921Z",
     "iopub.status.idle": "2023-10-17T15:27:07.735050Z",
     "shell.execute_reply": "2023-10-17T15:27:07.734050Z",
     "shell.execute_reply.started": "2023-10-17T15:27:07.728921Z"
    },
    "tags": []
   },
   "outputs": [],
   "source": [
    "def train(X_train, y_train):    \n",
    "\n",
    "    model = SGDClassifier(n_jobs=-1,loss='log_loss' ,max_iter=1000)\n",
    "\n",
    "    model.fit(X_train, y_train.to_numpy())\n",
    "    \n",
    "    return  model\n",
    "def predict(df, model):    \n",
    "    y_pred = model.predict(df)\n",
    "    return y_pred"
   ]
  },
  {
   "cell_type": "code",
   "execution_count": 17,
   "metadata": {
    "execution": {
     "iopub.execute_input": "2023-10-17T14:38:27.007113Z",
     "iopub.status.busy": "2023-10-17T14:38:27.006114Z",
     "iopub.status.idle": "2023-10-17T14:38:51.474269Z",
     "shell.execute_reply": "2023-10-17T14:38:51.473268Z",
     "shell.execute_reply.started": "2023-10-17T14:38:27.007113Z"
    },
    "tags": []
   },
   "outputs": [],
   "source": [
    "#separating and sacling the data\n",
    "\n",
    "\n",
    "\n",
    "df_combined = shuffle(df_combined)\n",
    "\n",
    "\n",
    "\n",
    "X_train, X_test, y_train, y_test = train_test_split(df_combined.loc[:,df_combined.columns != 'accepted'], df_combined['accepted'], test_size=0.2, random_state=1)\n",
    "\n",
    "X_train, X_val, y_train, y_val = train_test_split(X_train, y_train, test_size=0.25, random_state=1) # 0.25 x 0.8 = 0.2\n",
    "\n",
    "\n",
    "\n",
    "# Standard scaling \n",
    "scaler = StandardScaler()\n",
    "\n",
    "X_train = scaler.fit_transform(X_train)\n",
    "X_test = scaler.transform(X_test)\n",
    "X_val = scaler.transform(X_val)\n",
    "\n",
    "\n",
    "\n"
   ]
  },
  {
   "cell_type": "code",
   "execution_count": 18,
   "metadata": {
    "execution": {
     "iopub.execute_input": "2023-10-17T14:38:51.477260Z",
     "iopub.status.busy": "2023-10-17T14:38:51.476262Z",
     "iopub.status.idle": "2023-10-17T14:57:57.664536Z",
     "shell.execute_reply": "2023-10-17T14:57:57.662512Z",
     "shell.execute_reply.started": "2023-10-17T14:38:51.477260Z"
    },
    "tags": []
   },
   "outputs": [
    {
     "name": "stdout",
     "output_type": "stream",
     "text": [
      "-------------FITTING MODELS-------------\n"
     ]
    },
    {
     "name": "stderr",
     "output_type": "stream",
     "text": [
      "[Parallel(n_jobs=-1)]: Using backend LokyBackend with 8 concurrent workers.\n",
      "[Parallel(n_jobs=-1)]: Done   3 out of  16 | elapsed: 15.8min remaining: 68.7min\n",
      "[Parallel(n_jobs=-1)]: Done   5 out of  16 | elapsed: 16.0min remaining: 35.1min\n",
      "[Parallel(n_jobs=-1)]: Done   7 out of  16 | elapsed: 16.0min remaining: 20.6min\n",
      "[Parallel(n_jobs=-1)]: Done   9 out of  16 | elapsed: 17.8min remaining: 13.8min\n",
      "[Parallel(n_jobs=-1)]: Done  11 out of  16 | elapsed: 18.1min remaining:  8.2min\n",
      "[Parallel(n_jobs=-1)]: Done  13 out of  16 | elapsed: 18.4min remaining:  4.2min\n",
      "[Parallel(n_jobs=-1)]: Done  16 out of  16 | elapsed: 18.8min finished\n",
      "[Parallel(n_jobs=-1)]: Using backend LokyBackend with 8 concurrent workers.\n"
     ]
    },
    {
     "name": "stdout",
     "output_type": "stream",
     "text": [
      "-------------SCORING MODELS-------------\n"
     ]
    },
    {
     "name": "stderr",
     "output_type": "stream",
     "text": [
      "[Parallel(n_jobs=-1)]: Done  16 out of  16 | elapsed:   13.2s finished\n"
     ]
    },
    {
     "data": {
      "image/png": "[encoded data removed]",
      "text/plain": [
       "<Figure size 200x600 with 2 Axes>"
      ]
     },
     "metadata": {},
     "output_type": "display_data"
    },
    {
     "name": "stdout",
     "output_type": "stream",
     "text": [
      "SGDClassifier(n_jobs=-1) 0.9997124441272883\n"
     ]
    }
   ],
   "source": [
    "\n",
    "\n",
    "mlflow.sklearn.autolog()\n",
    "\n",
    "\n",
    "grid = {\n",
    "    'alpha': [1e-4, 1e-3, 1e-2, 1e-1, 1e0, 1e1, 1e2, 1e3], # learning rate\n",
    "    'max_iter': [1000], # number of epochs\n",
    "    'loss': ['log_loss','hinge'], # logistic regression,\n",
    "    'penalty': ['l2'],\n",
    "    'n_jobs': [-1]\n",
    "}\n",
    "paramGrid = ParameterGrid(grid)\n",
    "\n",
    "bestModel, bestScore, allModels, allScores = pf.bestFit(SGDClassifier, paramGrid, X_train, y_train, X_val, y_val, metric = roc_auc_score,scoreLabel = \"AUC\")\n",
    "\n",
    "\n",
    "\n",
    "\n",
    "print(bestModel, bestScore)"
   ]
  },
  {
   "cell_type": "code",
   "execution_count": 28,
   "metadata": {
    "execution": {
     "iopub.execute_input": "2023-10-17T15:27:11.031911Z",
     "iopub.status.busy": "2023-10-17T15:27:11.030914Z",
     "iopub.status.idle": "2023-10-17T15:28:39.056608Z",
     "shell.execute_reply": "2023-10-17T15:28:39.055120Z",
     "shell.execute_reply.started": "2023-10-17T15:27:11.031911Z"
    },
    "tags": []
   },
   "outputs": [
    {
     "name": "stderr",
     "output_type": "stream",
     "text": [
      "2023/10/17 11:27:11 INFO mlflow.utils.autologging_utils: Created MLflow autologging run with ID 'a7138ce01d514687ac8d400dafc20dde', which will track hyperparameters, performance metrics, model artifacts, and lineage information for the current sklearn workflow\n"
     ]
    }
   ],
   "source": [
    "\n",
    "model = train(X_train, y_train)\n",
    "y_pred = predict(X_test,  model)"
   ]
  },
  {
   "cell_type": "code",
   "execution_count": 29,
   "metadata": {
    "execution": {
     "iopub.execute_input": "2023-10-17T15:28:39.057608Z",
     "iopub.status.busy": "2023-10-17T15:28:39.057608Z",
     "iopub.status.idle": "2023-10-17T15:28:40.678457Z",
     "shell.execute_reply": "2023-10-17T15:28:40.677448Z",
     "shell.execute_reply.started": "2023-10-17T15:28:39.057608Z"
    },
    "tags": []
   },
   "outputs": [
    {
     "name": "stdout",
     "output_type": "stream",
     "text": [
      "0.9994543529644231\n",
      "0.9997048298838038\n"
     ]
    }
   ],
   "source": [
    "\n",
    "print(accuracy_score(y_test, y_pred))\n",
    "print(roc_auc_score(y_test, y_pred))"
   ]
  },
  {
   "cell_type": "code",
   "execution_count": 31,
   "metadata": {
    "execution": {
     "iopub.execute_input": "2023-10-17T15:46:11.771649Z",
     "iopub.status.busy": "2023-10-17T15:46:11.770660Z",
     "iopub.status.idle": "2023-10-17T15:46:13.302369Z",
     "shell.execute_reply": "2023-10-17T15:46:13.301369Z",
     "shell.execute_reply.started": "2023-10-17T15:46:11.771649Z"
    },
    "tags": []
   },
   "outputs": [
    {
     "data": {
      "image/png": "[encoded data removed]",
      "text/plain": [
       "<Figure size 640x480 with 2 Axes>"
      ]
     },
     "metadata": {},
     "output_type": "display_data"
    },
    {
     "data": {
      "image/png": "[encoded data removed]",
      "text/plain": [
       "<Figure size 640x480 with 2 Axes>"
      ]
     },
     "metadata": {},
     "output_type": "display_data"
    }
   ],
   "source": [
    "\n",
    "disp = ConfusionMatrixDisplay.from_estimator(model, X_test, y_test, \n",
    "                             cmap='Blues', values_format='d', \n",
    "                             display_labels=['Accepted', 'Declined'])\n",
    "disp.plot()\n",
    "plt.show()"
   ]
  },
  {
   "cell_type": "code",
   "execution_count": 41,
   "metadata": {
    "execution": {
     "iopub.execute_input": "2023-10-17T17:03:53.278342Z",
     "iopub.status.busy": "2023-10-17T17:03:53.278342Z",
     "iopub.status.idle": "2023-10-17T17:03:53.282980Z",
     "shell.execute_reply": "2023-10-17T17:03:53.281980Z",
     "shell.execute_reply.started": "2023-10-17T17:03:53.278342Z"
    },
    "tags": []
   },
   "outputs": [],
   "source": [
    "output_file = f'model_Pred_1.bin'"
   ]
  },
  {
   "cell_type": "code",
   "execution_count": 70,
   "metadata": {
    "execution": {
     "iopub.execute_input": "2023-10-17T18:40:13.108980Z",
     "iopub.status.busy": "2023-10-17T18:40:13.108980Z",
     "iopub.status.idle": "2023-10-17T18:40:13.115358Z",
     "shell.execute_reply": "2023-10-17T18:40:13.114357Z",
     "shell.execute_reply.started": "2023-10-17T18:40:13.108980Z"
    },
    "tags": []
   },
   "outputs": [],
   "source": [
    "with open(output_file, 'wb') as f_out :\n",
    "    pickle.dump((scaler,numerical_imputer, model), f_out)"
   ]
  },
  {
   "cell_type": "code",
   "execution_count": null,
   "metadata": {
    "tags": []
   },
   "outputs": [],
   "source": []
  },
  {
   "cell_type": "code",
   "execution_count": null,
   "metadata": {},
   "outputs": [],
   "source": []
  },
  {
   "cell_type": "code",
   "execution_count": 8,
   "metadata": {
    "execution": {
     "iopub.execute_input": "2023-10-18T15:50:41.892406Z",
     "iopub.status.busy": "2023-10-18T15:50:41.891428Z",
     "iopub.status.idle": "2023-10-18T15:50:41.908601Z",
     "shell.execute_reply": "2023-10-18T15:50:41.907528Z",
     "shell.execute_reply.started": "2023-10-18T15:50:41.892406Z"
    },
    "tags": []
   },
   "outputs": [
    {
     "name": "stdout",
     "output_type": "stream",
     "text": [
      "Accepted prediction: [1]\n"
     ]
    }
   ],
   "source": [
    "import requests\n",
    "import json  # Import the 'json' module\n",
    "\n",
    "# Define the URL of your Flask app\n",
    "url = 'http://192.168.2.49:9696/predict'  # Update with the actual URL\n",
    "\n",
    "# Sample data as a Python dictionary\n",
    "sample_data = {\n",
    "    \"Amount Requested\": 900000.0,\n",
    "    \"Debt-To-Income Ratio\": 150.0,\n",
    "    \"employment Length\": 10,\n",
    "    \"policy_code\": 1,\n",
    "    \"risk_score\": 800\n",
    "}\n",
    "\n",
    "# Serialize the Python dictionary into a JSON string\n",
    "sample_data_json = json.dumps(sample_data)\n",
    "\n",
    "# Send a POST request to your Flask app with JSON data\n",
    "response = requests.post(url, data=sample_data_json, headers={'Content-Type': 'application/json'})\n",
    "\n",
    "# Check the response\n",
    "if response.status_code == 200:\n",
    "    result = response.json()\n",
    "    accepted_pred = result['accepted_pred']\n",
    "    print(f\"Accepted prediction: {accepted_pred}\")\n",
    "else:\n",
    "    print(f\"Request failed with status code: {response.status_code}\")"
   ]
  },
  {
   "cell_type": "code",
   "execution_count": null,
   "metadata": {},
   "outputs": [],
   "source": []
  },
  {
   "cell_type": "code",
   "execution_count": null,
   "metadata": {},
   "outputs": [],
   "source": []
  },
  {
   "cell_type": "code",
   "execution_count": null,
   "metadata": {},
   "outputs": [],
   "source": []
  },
  {
   "cell_type": "code",
   "execution_count": null,
   "metadata": {},
   "outputs": [],
   "source": []
  },
  {
   "cell_type": "code",
   "execution_count": null,
   "metadata": {},
   "outputs": [],
   "source": []
  },
  {
   "cell_type": "code",
   "execution_count": null,
   "metadata": {},
   "outputs": [],
   "source": []
  },
  {
   "cell_type": "code",
   "execution_count": null,
   "metadata": {},
   "outputs": [],
   "source": []
  },
  {
   "cell_type": "code",
   "execution_count": null,
   "metadata": {},
   "outputs": [],
   "source": []
  },
  {
   "cell_type": "code",
   "execution_count": null,
   "metadata": {},
   "outputs": [],
   "source": []
  },
  {
   "cell_type": "code",
   "execution_count": null,
   "metadata": {},
   "outputs": [],
   "source": []
  },
  {
   "cell_type": "code",
   "execution_count": null,
   "metadata": {},
   "outputs": [],
   "source": []
  },
  {
   "cell_type": "code",
   "execution_count": null,
   "metadata": {},
   "outputs": [],
   "source": []
  },
  {
   "cell_type": "code",
   "execution_count": null,
   "metadata": {},
   "outputs": [],
   "source": []
  },
  {
   "cell_type": "code",
   "execution_count": null,
   "metadata": {},
   "outputs": [],
   "source": []
  },
  {
   "cell_type": "code",
   "execution_count": null,
   "metadata": {},
   "outputs": [],
   "source": []
  },
  {
   "cell_type": "code",
   "execution_count": null,
   "metadata": {},
   "outputs": [],
   "source": []
  },
  {
   "cell_type": "code",
   "execution_count": null,
   "metadata": {},
   "outputs": [],
   "source": []
  },
  {
   "cell_type": "code",
   "execution_count": null,
   "metadata": {},
   "outputs": [],
   "source": []
  },
  {
   "cell_type": "code",
   "execution_count": null,
   "metadata": {},
   "outputs": [],
   "source": []
  },
  {
   "cell_type": "code",
   "execution_count": null,
   "metadata": {},
   "outputs": [],
   "source": []
  },
  {
   "cell_type": "code",
   "execution_count": null,
   "metadata": {},
   "outputs": [],
   "source": []
  },
  {
   "cell_type": "code",
   "execution_count": null,
   "metadata": {},
   "outputs": [],
   "source": []
  },
  {
   "cell_type": "code",
   "execution_count": null,
   "metadata": {},
   "outputs": [],
   "source": []
  },
  {
   "cell_type": "code",
   "execution_count": null,
   "metadata": {},
   "outputs": [],
   "source": []
  },
  {
   "cell_type": "code",
   "execution_count": null,
   "metadata": {},
   "outputs": [],
   "source": []
  },
  {
   "cell_type": "code",
   "execution_count": null,
   "metadata": {},
   "outputs": [],
   "source": []
  },
  {
   "cell_type": "code",
   "execution_count": null,
   "metadata": {},
   "outputs": [],
   "source": []
  },
  {
   "cell_type": "code",
   "execution_count": null,
   "metadata": {},
   "outputs": [],
   "source": []
  },
  {
   "cell_type": "code",
   "execution_count": null,
   "metadata": {},
   "outputs": [],
   "source": []
  },
  {
   "cell_type": "code",
   "execution_count": null,
   "metadata": {},
   "outputs": [],
   "source": []
  },
  {
   "cell_type": "code",
   "execution_count": null,
   "metadata": {},
   "outputs": [],
   "source": []
  },
  {
   "cell_type": "code",
   "execution_count": null,
   "metadata": {},
   "outputs": [],
   "source": []
  },
  {
   "cell_type": "code",
   "execution_count": null,
   "metadata": {},
   "outputs": [],
   "source": []
  },
  {
   "cell_type": "code",
   "execution_count": null,
   "metadata": {},
   "outputs": [],
   "source": []
  },
  {
   "cell_type": "code",
   "execution_count": null,
   "metadata": {},
   "outputs": [],
   "source": []
  },
  {
   "cell_type": "code",
   "execution_count": null,
   "metadata": {},
   "outputs": [],
   "source": []
  },
  {
   "cell_type": "code",
   "execution_count": null,
   "metadata": {},
   "outputs": [],
   "source": []
  },
  {
   "cell_type": "code",
   "execution_count": null,
   "metadata": {},
   "outputs": [],
   "source": []
  },
  {
   "cell_type": "code",
   "execution_count": null,
   "metadata": {},
   "outputs": [],
   "source": []
  },
  {
   "cell_type": "code",
   "execution_count": null,
   "metadata": {},
   "outputs": [],
   "source": []
  },
  {
   "cell_type": "code",
   "execution_count": null,
   "metadata": {
    "tags": []
   },
   "outputs": [],
   "source": []
  },
  {
   "cell_type": "code",
   "execution_count": null,
   "metadata": {},
   "outputs": [],
   "source": []
  },
  {
   "cell_type": "code",
   "execution_count": null,
   "metadata": {
    "tags": []
   },
   "outputs": [],
   "source": []
  }
 ],
 "metadata": {
  "colab": {
   "authorship_tag": "ABX9TyOgAh0dUZxUUj99bwTfF307",
   "include_colab_link": true,
   "provenance": []
  },
  "kernelspec": {
   "display_name": "Python 3 (ipykernel)",
   "language": "python",
   "name": "python3"
  },
  "language_info": {
   "codemirror_mode": {
    "name": "ipython",
    "version": 3
   },
   "file_extension": ".py",
   "mimetype": "text/x-python",
   "name": "python",
   "nbconvert_exporter": "python",
   "pygments_lexer": "ipython3",
   "version": "3.11.0"
  }
 },
 "nbformat": 4,
 "nbformat_minor": 4
}
